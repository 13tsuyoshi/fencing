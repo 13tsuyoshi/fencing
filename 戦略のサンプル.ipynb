{
 "cells": [
  {
   "cell_type": "code",
   "execution_count": 1,
   "metadata": {
    "collapsed": true
   },
   "outputs": [],
   "source": []
  },
  {
   "cell_type": "code",
   "execution_count": 23,
   "metadata": {
    "collapsed": false
   },
   "outputs": [
    {
     "data": {
      "text/plain": [
       "[['a', 'a'], ['a', 'a'], ['b', 'a'], ['r', 'a']]"
      ]
     },
     "execution_count": 23,
     "metadata": {},
     "output_type": "execute_result"
    }
   ],
   "source": [
    "y=[[\"a\"],[\"a\"],[\"b\"],[\"r\"]]\n",
    "for i in range(len(y)):\n",
    "    y[i].append(\"a\")\n",
    "y"
   ]
  },
  {
   "cell_type": "code",
   "execution_count": 28,
   "metadata": {
    "collapsed": false
   },
   "outputs": [
    {
     "data": {
      "text/plain": [
       "[['a', 'b'],\n",
       " ['a', 'b'],\n",
       " ['b', 'a'],\n",
       " ['r', 'a'],\n",
       " ['a', 'b'],\n",
       " ['a', 'b'],\n",
       " ['b', 'a'],\n",
       " ['r', 'a']]"
      ]
     },
     "execution_count": 28,
     "metadata": {},
     "output_type": "execute_result"
    }
   ],
   "source": [
    "#あらかじめ手を決めておく戦略\n",
    "from numpy import*\n",
    "y=[[\"a\"],[\"a\"],[\"b\"],[\"r\"]]\n",
    "for i in range(len(y)):\n",
    "    y[i].append(\"a\")\n",
    "z= [\"b\",\"r\"]\n",
    "for i in range(len(y)):\n",
    "    if y[i][0]==\"a\":\n",
    "        y[i][1] = random.choice(z)#リストから一個をランダム抽出http://qiita.com/yubais/items/bf9ce0a8fefdcc0b0c97\n",
    "y*2"
   ]
  },
  {
   "cell_type": "code",
   "execution_count": 56,
   "metadata": {
    "collapsed": false
   },
   "outputs": [
    {
     "data": {
      "text/plain": [
       "[['a', 'a'], ['b', 'a'], ['r', 'a'], ['b', 'a'], ['a', 'r']]"
      ]
     },
     "execution_count": 56,
     "metadata": {},
     "output_type": "execute_result"
    }
   ],
   "source": [
    "#最初はattack一回前に出した手は使わず、残りをランダムにして手を出してしまう戦略\n",
    "y = [[\"a\" for i in range(2)] for j in range(5)]#http://sonickun.hatenablog.com/entry/2014/06/13/132821より\n",
    "z=[\"b\",\"r\"]\n",
    "v=[\"a\",\"b\",\"r\"]\n",
    "for i in range(1,len(y)):\n",
    "        v.remove(y[i-1][0])\n",
    "        y[i][0]= random.choice(v)\n",
    "        v.append(y[i-1][0])\n",
    "        if y[i][0]==\"a\":\n",
    "            y[i][1] = random.choice(z)\n",
    "y"
   ]
  },
  {
   "cell_type": "code",
   "execution_count": null,
   "metadata": {
    "collapsed": true
   },
   "outputs": [],
   "source": []
  }
 ],
 "metadata": {
  "kernelspec": {
   "display_name": "Python 2",
   "language": "python",
   "name": "python2"
  },
  "language_info": {
   "codemirror_mode": {
    "name": "ipython",
    "version": 2
   },
   "file_extension": ".py",
   "mimetype": "text/x-python",
   "name": "python",
   "nbconvert_exporter": "python",
   "pygments_lexer": "ipython2",
   "version": "2.7.10"
  }
 },
 "nbformat": 4,
 "nbformat_minor": 0
}
